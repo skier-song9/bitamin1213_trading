{
 "cells": [
  {
   "cell_type": "markdown",
   "metadata": {},
   "source": [
    "git clone https://github.com/pjueon/pykis.git   \n",
    "cd pykis   \n",
    "pip3 install -r requirements.txt   \n",
    "pip3 install pykis"
   ]
  },
  {
   "cell_type": "markdown",
   "metadata": {},
   "source": [
    "### API 객체 생성"
   ]
  },
  {
   "cell_type": "code",
   "execution_count": 36,
   "metadata": {},
   "outputs": [],
   "source": [
    "import pykis"
   ]
  },
  {
   "cell_type": "code",
   "execution_count": 37,
   "metadata": {},
   "outputs": [],
   "source": [
    "# API 사용을 위한 API key정보 및 계좌 정보를 설정합니다. \n",
    "# 별도의 파일(json, yaml, xml, etc) 등에 내용을 저장하여 불러오는 것을 추천합니다. \n",
    "# key 정보는 절대 외부로 유출되지 않도록 주의하시고, 유출시 즉시 재발급 하시기 바랍니다.  \n",
    "\n",
    "key_info = {\t\t# KIS Developers 서비스 신청을 통해 발급받은 API key 정보\n",
    "\t\"appkey\": \"PS2Yo0OYRrr7dqtBThWdmiqMj41S9nKefhNP\",                  \n",
    "\t\"appsecret\": \"BSk3IctJZpdvxmFI1YWlFuobhJ/82D/W47iyAMHkr7H1Q+ZNk4mdperWmlEw1tG7Ou40aTU8wm/Z4AOsAVCkiqLMKJt1lhEPyn3BmSH/VQUlO5EEuCffJ/ORWyDrnoNYI1kisNOgPkfkZH3wgMBpulpTwpr7BPGPMvwTZDal1GBIgAFQqj4=\" \n",
    "}\n",
    "\n",
    "account_info = {\t# 사용할 계좌 정보\n",
    "\t\"account_code\": \"50111264\",   \n",
    "\t\"product_code\": \"01\"             # ex> \"01\", \"22\", etc\n",
    "}\n",
    "\n",
    "# API 객체 생성 \n",
    "api = pykis.Api(key_info=key_info, account_info=account_info)"
   ]
  },
  {
   "cell_type": "markdown",
   "metadata": {},
   "source": [
    "모의 계좌 사용하는 경우"
   ]
  },
  {
   "cell_type": "code",
   "execution_count": 38,
   "metadata": {},
   "outputs": [],
   "source": [
    "domain = pykis.DomainInfo(kind=\"virtual\")\n",
    "\n",
    "\n",
    "# API 객체 생성 \n",
    "api = pykis.Api(key_info=key_info, domain_info=domain, account_info=account_info)"
   ]
  },
  {
   "cell_type": "markdown",
   "metadata": {},
   "source": [
    "### 사용 계좌 변경"
   ]
  },
  {
   "cell_type": "code",
   "execution_count": 39,
   "metadata": {},
   "outputs": [],
   "source": [
    "account_info = {    # 사용할 계좌 정보\n",
    "\t\"account_code\": \"50111264\",   \n",
    "\t\"product_code\": \"01\"             # ex> \"01\", \"22\", etc\n",
    "}\n",
    "\n",
    "api.set_account(account_info)"
   ]
  },
  {
   "cell_type": "markdown",
   "metadata": {},
   "source": [
    "## 국내 주식 관련"
   ]
  },
  {
   "cell_type": "markdown",
   "metadata": {},
   "source": [
    "### 거래 가능 현금 조회"
   ]
  },
  {
   "cell_type": "code",
   "execution_count": 41,
   "metadata": {},
   "outputs": [
    {
     "data": {
      "text/plain": [
       "497500000"
      ]
     },
     "execution_count": 41,
     "metadata": {},
     "output_type": "execute_result"
    }
   ],
   "source": [
    "cash = api.get_kr_buyable_cash()\n",
    "cash"
   ]
  },
  {
   "cell_type": "markdown",
   "metadata": {},
   "source": [
    "### 국내 주식 현재가 조회"
   ]
  },
  {
   "cell_type": "code",
   "execution_count": 42,
   "metadata": {},
   "outputs": [
    {
     "data": {
      "text/plain": [
       "78100"
      ]
     },
     "execution_count": 42,
     "metadata": {},
     "output_type": "execute_result"
    }
   ],
   "source": [
    "ticker = \"005930\"   # 삼성전자 종목코드\n",
    "price = api.get_kr_current_price(ticker)\n",
    "price"
   ]
  },
  {
   "cell_type": "markdown",
   "metadata": {},
   "source": [
    "### 국내 주식 최근 가격 조회 (일/주/월 OHLCV)"
   ]
  },
  {
   "cell_type": "code",
   "execution_count": 43,
   "metadata": {},
   "outputs": [
    {
     "data": {
      "text/html": [
       "<div>\n",
       "<style scoped>\n",
       "    .dataframe tbody tr th:only-of-type {\n",
       "        vertical-align: middle;\n",
       "    }\n",
       "\n",
       "    .dataframe tbody tr th {\n",
       "        vertical-align: top;\n",
       "    }\n",
       "\n",
       "    .dataframe thead th {\n",
       "        text-align: right;\n",
       "    }\n",
       "</style>\n",
       "<table border=\"1\" class=\"dataframe\">\n",
       "  <thead>\n",
       "    <tr style=\"text-align: right;\">\n",
       "      <th></th>\n",
       "      <th>Open</th>\n",
       "      <th>High</th>\n",
       "      <th>Low</th>\n",
       "      <th>Close</th>\n",
       "      <th>Volume</th>\n",
       "    </tr>\n",
       "    <tr>\n",
       "      <th>Date</th>\n",
       "      <th></th>\n",
       "      <th></th>\n",
       "      <th></th>\n",
       "      <th></th>\n",
       "      <th></th>\n",
       "    </tr>\n",
       "  </thead>\n",
       "  <tbody>\n",
       "    <tr>\n",
       "      <th>2024-05-22</th>\n",
       "      <td>78100</td>\n",
       "      <td>78200</td>\n",
       "      <td>77300</td>\n",
       "      <td>78000</td>\n",
       "      <td>5865386</td>\n",
       "    </tr>\n",
       "    <tr>\n",
       "      <th>2024-05-21</th>\n",
       "      <td>78500</td>\n",
       "      <td>79000</td>\n",
       "      <td>78200</td>\n",
       "      <td>78400</td>\n",
       "      <td>13690583</td>\n",
       "    </tr>\n",
       "    <tr>\n",
       "      <th>2024-05-20</th>\n",
       "      <td>78100</td>\n",
       "      <td>79100</td>\n",
       "      <td>77900</td>\n",
       "      <td>78900</td>\n",
       "      <td>19456783</td>\n",
       "    </tr>\n",
       "    <tr>\n",
       "      <th>2024-05-17</th>\n",
       "      <td>78600</td>\n",
       "      <td>78800</td>\n",
       "      <td>77200</td>\n",
       "      <td>77400</td>\n",
       "      <td>15918201</td>\n",
       "    </tr>\n",
       "    <tr>\n",
       "      <th>2024-05-16</th>\n",
       "      <td>80200</td>\n",
       "      <td>80300</td>\n",
       "      <td>78100</td>\n",
       "      <td>78200</td>\n",
       "      <td>20989778</td>\n",
       "    </tr>\n",
       "    <tr>\n",
       "      <th>2024-05-14</th>\n",
       "      <td>78600</td>\n",
       "      <td>78800</td>\n",
       "      <td>77900</td>\n",
       "      <td>78300</td>\n",
       "      <td>11763992</td>\n",
       "    </tr>\n",
       "    <tr>\n",
       "      <th>2024-05-13</th>\n",
       "      <td>79400</td>\n",
       "      <td>79900</td>\n",
       "      <td>77600</td>\n",
       "      <td>78400</td>\n",
       "      <td>18652344</td>\n",
       "    </tr>\n",
       "    <tr>\n",
       "      <th>2024-05-10</th>\n",
       "      <td>80400</td>\n",
       "      <td>81100</td>\n",
       "      <td>78900</td>\n",
       "      <td>79200</td>\n",
       "      <td>16976124</td>\n",
       "    </tr>\n",
       "    <tr>\n",
       "      <th>2024-05-09</th>\n",
       "      <td>81100</td>\n",
       "      <td>81500</td>\n",
       "      <td>79700</td>\n",
       "      <td>79700</td>\n",
       "      <td>18759935</td>\n",
       "    </tr>\n",
       "    <tr>\n",
       "      <th>2024-05-08</th>\n",
       "      <td>80800</td>\n",
       "      <td>81400</td>\n",
       "      <td>80500</td>\n",
       "      <td>81300</td>\n",
       "      <td>13089576</td>\n",
       "    </tr>\n",
       "    <tr>\n",
       "      <th>2024-05-07</th>\n",
       "      <td>79600</td>\n",
       "      <td>81300</td>\n",
       "      <td>79400</td>\n",
       "      <td>81300</td>\n",
       "      <td>26238868</td>\n",
       "    </tr>\n",
       "    <tr>\n",
       "      <th>2024-05-03</th>\n",
       "      <td>79000</td>\n",
       "      <td>79000</td>\n",
       "      <td>77500</td>\n",
       "      <td>77600</td>\n",
       "      <td>13151889</td>\n",
       "    </tr>\n",
       "    <tr>\n",
       "      <th>2024-05-02</th>\n",
       "      <td>77600</td>\n",
       "      <td>78600</td>\n",
       "      <td>77300</td>\n",
       "      <td>78000</td>\n",
       "      <td>18900640</td>\n",
       "    </tr>\n",
       "    <tr>\n",
       "      <th>2024-04-30</th>\n",
       "      <td>77000</td>\n",
       "      <td>78500</td>\n",
       "      <td>76600</td>\n",
       "      <td>77500</td>\n",
       "      <td>19007007</td>\n",
       "    </tr>\n",
       "    <tr>\n",
       "      <th>2024-04-29</th>\n",
       "      <td>77400</td>\n",
       "      <td>77600</td>\n",
       "      <td>76200</td>\n",
       "      <td>76700</td>\n",
       "      <td>14664474</td>\n",
       "    </tr>\n",
       "    <tr>\n",
       "      <th>2024-04-26</th>\n",
       "      <td>77800</td>\n",
       "      <td>77900</td>\n",
       "      <td>76500</td>\n",
       "      <td>76700</td>\n",
       "      <td>12755629</td>\n",
       "    </tr>\n",
       "    <tr>\n",
       "      <th>2024-04-25</th>\n",
       "      <td>77300</td>\n",
       "      <td>77500</td>\n",
       "      <td>76300</td>\n",
       "      <td>76300</td>\n",
       "      <td>15549134</td>\n",
       "    </tr>\n",
       "    <tr>\n",
       "      <th>2024-04-24</th>\n",
       "      <td>77500</td>\n",
       "      <td>78800</td>\n",
       "      <td>77200</td>\n",
       "      <td>78600</td>\n",
       "      <td>22166150</td>\n",
       "    </tr>\n",
       "    <tr>\n",
       "      <th>2024-04-23</th>\n",
       "      <td>76400</td>\n",
       "      <td>76800</td>\n",
       "      <td>75500</td>\n",
       "      <td>75500</td>\n",
       "      <td>18717699</td>\n",
       "    </tr>\n",
       "    <tr>\n",
       "      <th>2024-04-22</th>\n",
       "      <td>77400</td>\n",
       "      <td>77500</td>\n",
       "      <td>75100</td>\n",
       "      <td>76100</td>\n",
       "      <td>30469477</td>\n",
       "    </tr>\n",
       "    <tr>\n",
       "      <th>2024-04-19</th>\n",
       "      <td>78300</td>\n",
       "      <td>78700</td>\n",
       "      <td>76300</td>\n",
       "      <td>77600</td>\n",
       "      <td>31317563</td>\n",
       "    </tr>\n",
       "    <tr>\n",
       "      <th>2024-04-18</th>\n",
       "      <td>78800</td>\n",
       "      <td>80100</td>\n",
       "      <td>78300</td>\n",
       "      <td>79600</td>\n",
       "      <td>21370190</td>\n",
       "    </tr>\n",
       "    <tr>\n",
       "      <th>2024-04-17</th>\n",
       "      <td>80700</td>\n",
       "      <td>80800</td>\n",
       "      <td>78900</td>\n",
       "      <td>78900</td>\n",
       "      <td>22611631</td>\n",
       "    </tr>\n",
       "    <tr>\n",
       "      <th>2024-04-16</th>\n",
       "      <td>81200</td>\n",
       "      <td>81300</td>\n",
       "      <td>79400</td>\n",
       "      <td>80000</td>\n",
       "      <td>31949845</td>\n",
       "    </tr>\n",
       "    <tr>\n",
       "      <th>2024-04-15</th>\n",
       "      <td>82900</td>\n",
       "      <td>83200</td>\n",
       "      <td>81200</td>\n",
       "      <td>82200</td>\n",
       "      <td>26663772</td>\n",
       "    </tr>\n",
       "    <tr>\n",
       "      <th>2024-04-12</th>\n",
       "      <td>84700</td>\n",
       "      <td>84900</td>\n",
       "      <td>83200</td>\n",
       "      <td>83700</td>\n",
       "      <td>17061770</td>\n",
       "    </tr>\n",
       "    <tr>\n",
       "      <th>2024-04-11</th>\n",
       "      <td>83200</td>\n",
       "      <td>84700</td>\n",
       "      <td>82500</td>\n",
       "      <td>84100</td>\n",
       "      <td>25538009</td>\n",
       "    </tr>\n",
       "    <tr>\n",
       "      <th>2024-04-09</th>\n",
       "      <td>84500</td>\n",
       "      <td>84900</td>\n",
       "      <td>83100</td>\n",
       "      <td>83600</td>\n",
       "      <td>23725956</td>\n",
       "    </tr>\n",
       "    <tr>\n",
       "      <th>2024-04-08</th>\n",
       "      <td>85200</td>\n",
       "      <td>86000</td>\n",
       "      <td>84500</td>\n",
       "      <td>84500</td>\n",
       "      <td>18953232</td>\n",
       "    </tr>\n",
       "    <tr>\n",
       "      <th>2024-04-05</th>\n",
       "      <td>84500</td>\n",
       "      <td>85000</td>\n",
       "      <td>83800</td>\n",
       "      <td>84500</td>\n",
       "      <td>18883752</td>\n",
       "    </tr>\n",
       "  </tbody>\n",
       "</table>\n",
       "</div>"
      ],
      "text/plain": [
       "             Open   High    Low  Close    Volume\n",
       "Date                                            \n",
       "2024-05-22  78100  78200  77300  78000   5865386\n",
       "2024-05-21  78500  79000  78200  78400  13690583\n",
       "2024-05-20  78100  79100  77900  78900  19456783\n",
       "2024-05-17  78600  78800  77200  77400  15918201\n",
       "2024-05-16  80200  80300  78100  78200  20989778\n",
       "2024-05-14  78600  78800  77900  78300  11763992\n",
       "2024-05-13  79400  79900  77600  78400  18652344\n",
       "2024-05-10  80400  81100  78900  79200  16976124\n",
       "2024-05-09  81100  81500  79700  79700  18759935\n",
       "2024-05-08  80800  81400  80500  81300  13089576\n",
       "2024-05-07  79600  81300  79400  81300  26238868\n",
       "2024-05-03  79000  79000  77500  77600  13151889\n",
       "2024-05-02  77600  78600  77300  78000  18900640\n",
       "2024-04-30  77000  78500  76600  77500  19007007\n",
       "2024-04-29  77400  77600  76200  76700  14664474\n",
       "2024-04-26  77800  77900  76500  76700  12755629\n",
       "2024-04-25  77300  77500  76300  76300  15549134\n",
       "2024-04-24  77500  78800  77200  78600  22166150\n",
       "2024-04-23  76400  76800  75500  75500  18717699\n",
       "2024-04-22  77400  77500  75100  76100  30469477\n",
       "2024-04-19  78300  78700  76300  77600  31317563\n",
       "2024-04-18  78800  80100  78300  79600  21370190\n",
       "2024-04-17  80700  80800  78900  78900  22611631\n",
       "2024-04-16  81200  81300  79400  80000  31949845\n",
       "2024-04-15  82900  83200  81200  82200  26663772\n",
       "2024-04-12  84700  84900  83200  83700  17061770\n",
       "2024-04-11  83200  84700  82500  84100  25538009\n",
       "2024-04-09  84500  84900  83100  83600  23725956\n",
       "2024-04-08  85200  86000  84500  84500  18953232\n",
       "2024-04-05  84500  85000  83800  84500  18883752"
      ]
     },
     "execution_count": 43,
     "metadata": {},
     "output_type": "execute_result"
    }
   ],
   "source": [
    "# 최근 30 일/주/월 OHLCV 데이터를 DataFrame으로 반환\n",
    "ticker = \"005930\"   # 삼성전자 종목코드\n",
    "time_unit = \"D\"     # 기간 분류 코드 (D/day-일, W/week-주, M/month-월), 기본값 \"D\"\n",
    "ohlcv = api.get_kr_ohlcv(ticker, time_unit)\n",
    "ohlcv"
   ]
  },
  {
   "cell_type": "markdown",
   "metadata": {},
   "source": [
    "### 국내 주식 하한가 조회"
   ]
  },
  {
   "cell_type": "code",
   "execution_count": 44,
   "metadata": {},
   "outputs": [
    {
     "data": {
      "text/plain": [
       "54900"
      ]
     },
     "execution_count": 44,
     "metadata": {},
     "output_type": "execute_result"
    }
   ],
   "source": [
    "ticker = \"005930\"   # 삼성전자 종목코드\n",
    "price = api.get_kr_min_price(ticker)\n",
    "price"
   ]
  },
  {
   "cell_type": "markdown",
   "metadata": {},
   "source": [
    "### 국내 주식 상한가 조회"
   ]
  },
  {
   "cell_type": "code",
   "execution_count": 45,
   "metadata": {},
   "outputs": [
    {
     "data": {
      "text/plain": [
       "101900"
      ]
     },
     "execution_count": 45,
     "metadata": {},
     "output_type": "execute_result"
    }
   ],
   "source": [
    "ticker = \"005930\"   # 삼성전자 종목코드\n",
    "price = api.get_kr_max_price(ticker)\n",
    "price"
   ]
  },
  {
   "cell_type": "markdown",
   "metadata": {},
   "source": [
    "### 국내 주식 잔고 조회"
   ]
  },
  {
   "cell_type": "code",
   "execution_count": 46,
   "metadata": {},
   "outputs": [
    {
     "data": {
      "text/html": [
       "<div>\n",
       "<style scoped>\n",
       "    .dataframe tbody tr th:only-of-type {\n",
       "        vertical-align: middle;\n",
       "    }\n",
       "\n",
       "    .dataframe tbody tr th {\n",
       "        vertical-align: top;\n",
       "    }\n",
       "\n",
       "    .dataframe thead th {\n",
       "        text-align: right;\n",
       "    }\n",
       "</style>\n",
       "<table border=\"1\" class=\"dataframe\">\n",
       "  <thead>\n",
       "    <tr style=\"text-align: right;\">\n",
       "      <th></th>\n",
       "    </tr>\n",
       "  </thead>\n",
       "  <tbody>\n",
       "  </tbody>\n",
       "</table>\n",
       "</div>"
      ],
      "text/plain": [
       "Empty DataFrame\n",
       "Columns: []\n",
       "Index: []"
      ]
     },
     "execution_count": 46,
     "metadata": {},
     "output_type": "execute_result"
    }
   ],
   "source": [
    "# DataFrame 형태로 국내 주식 잔고 반환 \n",
    "stocks_kr = api.get_kr_stock_balance()\n",
    "stocks_kr"
   ]
  },
  {
   "cell_type": "markdown",
   "metadata": {},
   "source": [
    "### 국내 주식 총 예수금 조회"
   ]
  },
  {
   "cell_type": "code",
   "execution_count": 47,
   "metadata": {},
   "outputs": [
    {
     "data": {
      "text/plain": [
       "500000000"
      ]
     },
     "execution_count": 47,
     "metadata": {},
     "output_type": "execute_result"
    }
   ],
   "source": [
    "deposit = api.get_kr_deposit()\n",
    "deposit"
   ]
  },
  {
   "cell_type": "markdown",
   "metadata": {},
   "source": [
    "### 국내 주식 매수 주문(장 열린 시간에 가능)"
   ]
  },
  {
   "cell_type": "code",
   "execution_count": 54,
   "metadata": {},
   "outputs": [
    {
     "data": {
      "text/plain": [
       "{'KRX_FWDG_ORD_ORGNO': '00950', 'ODNO': '4302', 'ORD_TMD': '101750'}"
      ]
     },
     "execution_count": 54,
     "metadata": {},
     "output_type": "execute_result"
    }
   ],
   "source": [
    "ticker = \"005930\"   # 삼성전자 종목코드\n",
    "price = 100000      # 매수 가격 예시. 가격이 0 이하인 경우 시장가로 매수\n",
    "amount = 1          # 주문 수량\n",
    "\n",
    "# 삼성전자 1주를 지정가로 매수 주문 \n",
    "api.buy_kr_stock(ticker, amount, price=price)"
   ]
  },
  {
   "cell_type": "markdown",
   "metadata": {},
   "source": [
    "여기서 'KRX_FWDG_ORD_ORGNO' 은 한국거래소에 전달된 주문 기관 번호를 의미함. 00950은 주문을 처리한 기관의 식별 코드.    \n",
    "'ODNO'는 주문 번호로, 개별 주문을 식별하는 고유번호   \n",
    "'ORD_TMD'는 주문 시간을 나타냄(100740은 오전 10시 07분 40초에 주문이 처리되었음을 의미)"
   ]
  },
  {
   "cell_type": "markdown",
   "metadata": {},
   "source": [
    "### 국내 주식 매도 주문"
   ]
  },
  {
   "cell_type": "code",
   "execution_count": 49,
   "metadata": {},
   "outputs": [
    {
     "data": {
      "text/plain": [
       "{'KRX_FWDG_ORD_ORGNO': '00950', 'ODNO': '3865', 'ORD_TMD': '100756'}"
      ]
     },
     "execution_count": 49,
     "metadata": {},
     "output_type": "execute_result"
    }
   ],
   "source": [
    "ticker = \"005930\"   # 삼성전자 종목코드\n",
    "price = 100000      # 매도 가격 예시. 가격이 0 이하인 경우 시장가로 매도\n",
    "amount = 1          # 주문 수량\n",
    "\n",
    "# 삼성전자 1주를 지정가로 매도 주문 \n",
    "api.sell_kr_stock(ticker, amount, price=price)"
   ]
  },
  {
   "cell_type": "markdown",
   "metadata": {},
   "source": [
    "### 정정/취소 가능한 국내 주식 주문 조회 \n",
    "- 모의투자에서는 불가한 기능"
   ]
  },
  {
   "cell_type": "code",
   "execution_count": 50,
   "metadata": {},
   "outputs": [
    {
     "ename": "RuntimeError",
     "evalue": "http response: 200, return code: 1. msg: 모의투자에서는 해당업무가 제공되지 않습니다.                                    ",
     "output_type": "error",
     "traceback": [
      "\u001b[1;31m---------------------------------------------------------------------------\u001b[0m",
      "\u001b[1;31mRuntimeError\u001b[0m                              Traceback (most recent call last)",
      "Cell \u001b[1;32mIn[50], line 2\u001b[0m\n\u001b[0;32m      1\u001b[0m \u001b[38;5;66;03m# 정정/취소 가능한 국내 주식 주문을 DataFrame으로 반환\u001b[39;00m\n\u001b[1;32m----> 2\u001b[0m orders \u001b[38;5;241m=\u001b[39m \u001b[43mapi\u001b[49m\u001b[38;5;241;43m.\u001b[39;49m\u001b[43mget_kr_orders\u001b[49m\u001b[43m(\u001b[49m\u001b[43m)\u001b[49m\n",
      "File \u001b[1;32m~\\AppData\\Roaming\\Python\\Python312\\site-packages\\pykis\\public_api.py:659\u001b[0m, in \u001b[0;36mApi.get_kr_orders\u001b[1;34m(self)\u001b[0m\n\u001b[0;32m    655\u001b[0m     data \u001b[38;5;241m=\u001b[39m data\u001b[38;5;241m.\u001b[39mrename(columns\u001b[38;5;241m=\u001b[39mrename_map)\n\u001b[0;32m    657\u001b[0m     \u001b[38;5;28;01mreturn\u001b[39;00m data\n\u001b[1;32m--> 659\u001b[0m \u001b[38;5;28;01mreturn\u001b[39;00m \u001b[38;5;28;43mself\u001b[39;49m\u001b[38;5;241;43m.\u001b[39;49m\u001b[43m_send_continuous_query\u001b[49m\u001b[43m(\u001b[49m\u001b[38;5;28;43mself\u001b[39;49m\u001b[38;5;241;43m.\u001b[39;49m\u001b[43m_get_kr_orders_once\u001b[49m\u001b[43m,\u001b[49m\u001b[43m \u001b[49m\u001b[43mto_dataframe\u001b[49m\u001b[43m)\u001b[49m\n",
      "File \u001b[1;32m~\\AppData\\Roaming\\Python\\Python312\\site-packages\\pykis\\public_api.py:518\u001b[0m, in \u001b[0;36mApi._send_continuous_query\u001b[1;34m(self, request_function, to_dataframe)\u001b[0m\n\u001b[0;32m    515\u001b[0m \u001b[38;5;28;01mif\u001b[39;00m i \u001b[38;5;241m>\u001b[39m \u001b[38;5;241m0\u001b[39m:\n\u001b[0;32m    516\u001b[0m     extra_header \u001b[38;5;241m=\u001b[39m {\u001b[38;5;124m\"\u001b[39m\u001b[38;5;124mtr_cont\u001b[39m\u001b[38;5;124m\"\u001b[39m: \u001b[38;5;124m\"\u001b[39m\u001b[38;5;124mN\u001b[39m\u001b[38;5;124m\"\u001b[39m}    \u001b[38;5;66;03m# 공백 : 초기 조회, N : 다음 데이터 조회\u001b[39;00m\n\u001b[1;32m--> 518\u001b[0m res \u001b[38;5;241m=\u001b[39m \u001b[43mrequest_function\u001b[49m\u001b[43m(\u001b[49m\n\u001b[0;32m    519\u001b[0m \u001b[43m    \u001b[49m\u001b[43mextra_header\u001b[49m\u001b[38;5;241;43m=\u001b[39;49m\u001b[43mextra_header\u001b[49m\u001b[43m,\u001b[49m\n\u001b[0;32m    520\u001b[0m \u001b[43m    \u001b[49m\u001b[43mextra_param\u001b[49m\u001b[38;5;241;43m=\u001b[39;49m\u001b[43mextra_param\u001b[49m\n\u001b[0;32m    521\u001b[0m \u001b[43m\u001b[49m\u001b[43m)\u001b[49m\n\u001b[0;32m    522\u001b[0m output \u001b[38;5;241m=\u001b[39m to_dataframe(res)\n\u001b[0;32m    523\u001b[0m outputs\u001b[38;5;241m.\u001b[39mappend(output)\n",
      "File \u001b[1;32m~\\AppData\\Roaming\\Python\\Python312\\site-packages\\pykis\\public_api.py:627\u001b[0m, in \u001b[0;36mApi._get_kr_orders_once\u001b[1;34m(self, extra_header, extra_param)\u001b[0m\n\u001b[0;32m    624\u001b[0m params \u001b[38;5;241m=\u001b[39m merge_json([params, extra_param])\n\u001b[0;32m    625\u001b[0m req \u001b[38;5;241m=\u001b[39m APIRequestParameter(url_path, tr_id, params,\n\u001b[0;32m    626\u001b[0m                           extra_header\u001b[38;5;241m=\u001b[39mextra_header)\n\u001b[1;32m--> 627\u001b[0m res \u001b[38;5;241m=\u001b[39m \u001b[38;5;28;43mself\u001b[39;49m\u001b[38;5;241;43m.\u001b[39;49m\u001b[43m_send_get_request\u001b[49m\u001b[43m(\u001b[49m\u001b[43mreq\u001b[49m\u001b[43m)\u001b[49m\n\u001b[0;32m    629\u001b[0m \u001b[38;5;28;01mreturn\u001b[39;00m res\n",
      "File \u001b[1;32m~\\AppData\\Roaming\\Python\\Python312\\site-packages\\pykis\\public_api.py:821\u001b[0m, in \u001b[0;36mApi._send_get_request\u001b[1;34m(self, req, raise_flag)\u001b[0m\n\u001b[0;32m    819\u001b[0m url \u001b[38;5;241m=\u001b[39m \u001b[38;5;28mself\u001b[39m\u001b[38;5;241m.\u001b[39mdomain\u001b[38;5;241m.\u001b[39mget_url(req\u001b[38;5;241m.\u001b[39murl_path)\n\u001b[0;32m    820\u001b[0m headers \u001b[38;5;241m=\u001b[39m \u001b[38;5;28mself\u001b[39m\u001b[38;5;241m.\u001b[39m_parse_headers(req)\n\u001b[1;32m--> 821\u001b[0m \u001b[38;5;28;01mreturn\u001b[39;00m \u001b[43msend_get_request\u001b[49m\u001b[43m(\u001b[49m\u001b[43murl\u001b[49m\u001b[43m,\u001b[49m\u001b[43m \u001b[49m\u001b[43mheaders\u001b[49m\u001b[43m,\u001b[49m\u001b[43m \u001b[49m\u001b[43mreq\u001b[49m\u001b[38;5;241;43m.\u001b[39;49m\u001b[43mparams\u001b[49m\u001b[43m,\u001b[49m\u001b[43m \u001b[49m\u001b[43mraise_flag\u001b[49m\u001b[38;5;241;43m=\u001b[39;49m\u001b[43mraise_flag\u001b[49m\u001b[43m)\u001b[49m\n",
      "File \u001b[1;32m~\\AppData\\Roaming\\Python\\Python312\\site-packages\\pykis\\public_api.py:158\u001b[0m, in \u001b[0;36msend_get_request\u001b[1;34m(url, headers, params, raise_flag)\u001b[0m\n\u001b[0;32m    155\u001b[0m api_resp \u001b[38;5;241m=\u001b[39m APIResponse(resp)\n\u001b[0;32m    157\u001b[0m \u001b[38;5;28;01mif\u001b[39;00m raise_flag:\n\u001b[1;32m--> 158\u001b[0m     \u001b[43mapi_resp\u001b[49m\u001b[38;5;241;43m.\u001b[39;49m\u001b[43mraise_if_error\u001b[49m\u001b[43m(\u001b[49m\u001b[43m)\u001b[49m\n\u001b[0;32m    160\u001b[0m \u001b[38;5;28;01mreturn\u001b[39;00m api_resp\n",
      "File \u001b[1;32m~\\AppData\\Roaming\\Python\\Python312\\site-packages\\pykis\\public_api.py:75\u001b[0m, in \u001b[0;36mAPIResponse.raise_if_error\u001b[1;34m(self, check_http_error, check_return_code)\u001b[0m\n\u001b[0;32m     72\u001b[0m     \u001b[38;5;28;01mraise\u001b[39;00m \u001b[38;5;167;01mRuntimeError\u001b[39;00m(error_message)\n\u001b[0;32m     74\u001b[0m \u001b[38;5;28;01mif\u001b[39;00m check_return_code \u001b[38;5;129;01mand\u001b[39;00m \u001b[38;5;28mself\u001b[39m\u001b[38;5;241m.\u001b[39mreturn_code \u001b[38;5;241m!=\u001b[39m \u001b[38;5;124m\"\u001b[39m\u001b[38;5;124m0\u001b[39m\u001b[38;5;124m\"\u001b[39m \u001b[38;5;129;01mand\u001b[39;00m \u001b[38;5;28mself\u001b[39m\u001b[38;5;241m.\u001b[39mreturn_code \u001b[38;5;129;01mis\u001b[39;00m \u001b[38;5;129;01mnot\u001b[39;00m \u001b[38;5;28;01mNone\u001b[39;00m:\n\u001b[1;32m---> 75\u001b[0m     \u001b[38;5;28;01mraise\u001b[39;00m \u001b[38;5;167;01mRuntimeError\u001b[39;00m(error_message)\n",
      "\u001b[1;31mRuntimeError\u001b[0m: http response: 200, return code: 1. msg: 모의투자에서는 해당업무가 제공되지 않습니다.                                    "
     ]
    }
   ],
   "source": [
    "# 정정/취소 가능한 국내 주식 주문을 DataFrame으로 반환\n",
    "orders = api.get_kr_orders()"
   ]
  },
  {
   "cell_type": "markdown",
   "metadata": {},
   "source": [
    "### 미체결 국내 주식 주문 취소 \n",
    "- api.get_kr_orders 이게 모의투자에선 불가한 기능이라 order_number 확인 불가하여 미체결 주문 취소도 불가능함"
   ]
  },
  {
   "cell_type": "code",
   "execution_count": 51,
   "metadata": {},
   "outputs": [
    {
     "ename": "NameError",
     "evalue": "name 'order_number' is not defined",
     "output_type": "error",
     "traceback": [
      "\u001b[1;31m---------------------------------------------------------------------------\u001b[0m",
      "\u001b[1;31mNameError\u001b[0m                                 Traceback (most recent call last)",
      "Cell \u001b[1;32mIn[51], line 3\u001b[0m\n\u001b[0;32m      1\u001b[0m \u001b[38;5;66;03m# order_number: 주문 번호. api.get_kr_orders 통해 확인 가능.\u001b[39;00m\n\u001b[0;32m      2\u001b[0m \u001b[38;5;66;03m# amount: 취소할 주문 수량. 지정하지 않은 경우 잔량 전부 취소.\u001b[39;00m\n\u001b[1;32m----> 3\u001b[0m api\u001b[38;5;241m.\u001b[39mcancel_kr_order(\u001b[43morder_number\u001b[49m, amount)\n",
      "\u001b[1;31mNameError\u001b[0m: name 'order_number' is not defined"
     ]
    }
   ],
   "source": [
    "# order_number: 주문 번호. api.get_kr_orders 통해 확인 가능.\n",
    "# amount: 취소할 주문 수량. 지정하지 않은 경우 잔량 전부 취소.\n",
    "api.cancel_kr_order(order_number, amount)"
   ]
  },
  {
   "cell_type": "markdown",
   "metadata": {},
   "source": [
    "### 모든 미체결 국내 주식 주문 취소 \n",
    "- 모의투자에서는 불가"
   ]
  },
  {
   "cell_type": "code",
   "execution_count": 52,
   "metadata": {},
   "outputs": [
    {
     "ename": "RuntimeError",
     "evalue": "http response: 200, return code: 1. msg: 모의투자에서는 해당업무가 제공되지 않습니다.                                    ",
     "output_type": "error",
     "traceback": [
      "\u001b[1;31m---------------------------------------------------------------------------\u001b[0m",
      "\u001b[1;31mRuntimeError\u001b[0m                              Traceback (most recent call last)",
      "Cell \u001b[1;32mIn[52], line 1\u001b[0m\n\u001b[1;32m----> 1\u001b[0m \u001b[43mapi\u001b[49m\u001b[38;5;241;43m.\u001b[39;49m\u001b[43mcancel_all_kr_orders\u001b[49m\u001b[43m(\u001b[49m\u001b[43m)\u001b[49m\n",
      "File \u001b[1;32m~\\AppData\\Roaming\\Python\\Python312\\site-packages\\pykis\\public_api.py:785\u001b[0m, in \u001b[0;36mApi.cancel_all_kr_orders\u001b[1;34m(self)\u001b[0m\n\u001b[0;32m    781\u001b[0m \u001b[38;5;28;01mdef\u001b[39;00m \u001b[38;5;21mcancel_all_kr_orders\u001b[39m(\u001b[38;5;28mself\u001b[39m) \u001b[38;5;241m-\u001b[39m\u001b[38;5;241m>\u001b[39m \u001b[38;5;28;01mNone\u001b[39;00m:\n\u001b[0;32m    782\u001b[0m \u001b[38;5;250m    \u001b[39m\u001b[38;5;124;03m\"\"\"\u001b[39;00m\n\u001b[0;32m    783\u001b[0m \u001b[38;5;124;03m    미체결된 모든 국내 주식 주문들을 취소한다.\u001b[39;00m\n\u001b[0;32m    784\u001b[0m \u001b[38;5;124;03m    \"\"\"\u001b[39;00m\n\u001b[1;32m--> 785\u001b[0m     data \u001b[38;5;241m=\u001b[39m \u001b[38;5;28;43mself\u001b[39;49m\u001b[38;5;241;43m.\u001b[39;49m\u001b[43mget_kr_orders\u001b[49m\u001b[43m(\u001b[49m\u001b[43m)\u001b[49m\n\u001b[0;32m    786\u001b[0m     orders \u001b[38;5;241m=\u001b[39m data\u001b[38;5;241m.\u001b[39mindex\u001b[38;5;241m.\u001b[39mto_list()\n\u001b[0;32m    787\u001b[0m     branchs \u001b[38;5;241m=\u001b[39m data[\u001b[38;5;124m\"\u001b[39m\u001b[38;5;124m주문점\u001b[39m\u001b[38;5;124m\"\u001b[39m]\u001b[38;5;241m.\u001b[39mto_list()\n",
      "File \u001b[1;32m~\\AppData\\Roaming\\Python\\Python312\\site-packages\\pykis\\public_api.py:659\u001b[0m, in \u001b[0;36mApi.get_kr_orders\u001b[1;34m(self)\u001b[0m\n\u001b[0;32m    655\u001b[0m     data \u001b[38;5;241m=\u001b[39m data\u001b[38;5;241m.\u001b[39mrename(columns\u001b[38;5;241m=\u001b[39mrename_map)\n\u001b[0;32m    657\u001b[0m     \u001b[38;5;28;01mreturn\u001b[39;00m data\n\u001b[1;32m--> 659\u001b[0m \u001b[38;5;28;01mreturn\u001b[39;00m \u001b[38;5;28;43mself\u001b[39;49m\u001b[38;5;241;43m.\u001b[39;49m\u001b[43m_send_continuous_query\u001b[49m\u001b[43m(\u001b[49m\u001b[38;5;28;43mself\u001b[39;49m\u001b[38;5;241;43m.\u001b[39;49m\u001b[43m_get_kr_orders_once\u001b[49m\u001b[43m,\u001b[49m\u001b[43m \u001b[49m\u001b[43mto_dataframe\u001b[49m\u001b[43m)\u001b[49m\n",
      "File \u001b[1;32m~\\AppData\\Roaming\\Python\\Python312\\site-packages\\pykis\\public_api.py:518\u001b[0m, in \u001b[0;36mApi._send_continuous_query\u001b[1;34m(self, request_function, to_dataframe)\u001b[0m\n\u001b[0;32m    515\u001b[0m \u001b[38;5;28;01mif\u001b[39;00m i \u001b[38;5;241m>\u001b[39m \u001b[38;5;241m0\u001b[39m:\n\u001b[0;32m    516\u001b[0m     extra_header \u001b[38;5;241m=\u001b[39m {\u001b[38;5;124m\"\u001b[39m\u001b[38;5;124mtr_cont\u001b[39m\u001b[38;5;124m\"\u001b[39m: \u001b[38;5;124m\"\u001b[39m\u001b[38;5;124mN\u001b[39m\u001b[38;5;124m\"\u001b[39m}    \u001b[38;5;66;03m# 공백 : 초기 조회, N : 다음 데이터 조회\u001b[39;00m\n\u001b[1;32m--> 518\u001b[0m res \u001b[38;5;241m=\u001b[39m \u001b[43mrequest_function\u001b[49m\u001b[43m(\u001b[49m\n\u001b[0;32m    519\u001b[0m \u001b[43m    \u001b[49m\u001b[43mextra_header\u001b[49m\u001b[38;5;241;43m=\u001b[39;49m\u001b[43mextra_header\u001b[49m\u001b[43m,\u001b[49m\n\u001b[0;32m    520\u001b[0m \u001b[43m    \u001b[49m\u001b[43mextra_param\u001b[49m\u001b[38;5;241;43m=\u001b[39;49m\u001b[43mextra_param\u001b[49m\n\u001b[0;32m    521\u001b[0m \u001b[43m\u001b[49m\u001b[43m)\u001b[49m\n\u001b[0;32m    522\u001b[0m output \u001b[38;5;241m=\u001b[39m to_dataframe(res)\n\u001b[0;32m    523\u001b[0m outputs\u001b[38;5;241m.\u001b[39mappend(output)\n",
      "File \u001b[1;32m~\\AppData\\Roaming\\Python\\Python312\\site-packages\\pykis\\public_api.py:627\u001b[0m, in \u001b[0;36mApi._get_kr_orders_once\u001b[1;34m(self, extra_header, extra_param)\u001b[0m\n\u001b[0;32m    624\u001b[0m params \u001b[38;5;241m=\u001b[39m merge_json([params, extra_param])\n\u001b[0;32m    625\u001b[0m req \u001b[38;5;241m=\u001b[39m APIRequestParameter(url_path, tr_id, params,\n\u001b[0;32m    626\u001b[0m                           extra_header\u001b[38;5;241m=\u001b[39mextra_header)\n\u001b[1;32m--> 627\u001b[0m res \u001b[38;5;241m=\u001b[39m \u001b[38;5;28;43mself\u001b[39;49m\u001b[38;5;241;43m.\u001b[39;49m\u001b[43m_send_get_request\u001b[49m\u001b[43m(\u001b[49m\u001b[43mreq\u001b[49m\u001b[43m)\u001b[49m\n\u001b[0;32m    629\u001b[0m \u001b[38;5;28;01mreturn\u001b[39;00m res\n",
      "File \u001b[1;32m~\\AppData\\Roaming\\Python\\Python312\\site-packages\\pykis\\public_api.py:821\u001b[0m, in \u001b[0;36mApi._send_get_request\u001b[1;34m(self, req, raise_flag)\u001b[0m\n\u001b[0;32m    819\u001b[0m url \u001b[38;5;241m=\u001b[39m \u001b[38;5;28mself\u001b[39m\u001b[38;5;241m.\u001b[39mdomain\u001b[38;5;241m.\u001b[39mget_url(req\u001b[38;5;241m.\u001b[39murl_path)\n\u001b[0;32m    820\u001b[0m headers \u001b[38;5;241m=\u001b[39m \u001b[38;5;28mself\u001b[39m\u001b[38;5;241m.\u001b[39m_parse_headers(req)\n\u001b[1;32m--> 821\u001b[0m \u001b[38;5;28;01mreturn\u001b[39;00m \u001b[43msend_get_request\u001b[49m\u001b[43m(\u001b[49m\u001b[43murl\u001b[49m\u001b[43m,\u001b[49m\u001b[43m \u001b[49m\u001b[43mheaders\u001b[49m\u001b[43m,\u001b[49m\u001b[43m \u001b[49m\u001b[43mreq\u001b[49m\u001b[38;5;241;43m.\u001b[39;49m\u001b[43mparams\u001b[49m\u001b[43m,\u001b[49m\u001b[43m \u001b[49m\u001b[43mraise_flag\u001b[49m\u001b[38;5;241;43m=\u001b[39;49m\u001b[43mraise_flag\u001b[49m\u001b[43m)\u001b[49m\n",
      "File \u001b[1;32m~\\AppData\\Roaming\\Python\\Python312\\site-packages\\pykis\\public_api.py:158\u001b[0m, in \u001b[0;36msend_get_request\u001b[1;34m(url, headers, params, raise_flag)\u001b[0m\n\u001b[0;32m    155\u001b[0m api_resp \u001b[38;5;241m=\u001b[39m APIResponse(resp)\n\u001b[0;32m    157\u001b[0m \u001b[38;5;28;01mif\u001b[39;00m raise_flag:\n\u001b[1;32m--> 158\u001b[0m     \u001b[43mapi_resp\u001b[49m\u001b[38;5;241;43m.\u001b[39;49m\u001b[43mraise_if_error\u001b[49m\u001b[43m(\u001b[49m\u001b[43m)\u001b[49m\n\u001b[0;32m    160\u001b[0m \u001b[38;5;28;01mreturn\u001b[39;00m api_resp\n",
      "File \u001b[1;32m~\\AppData\\Roaming\\Python\\Python312\\site-packages\\pykis\\public_api.py:75\u001b[0m, in \u001b[0;36mAPIResponse.raise_if_error\u001b[1;34m(self, check_http_error, check_return_code)\u001b[0m\n\u001b[0;32m     72\u001b[0m     \u001b[38;5;28;01mraise\u001b[39;00m \u001b[38;5;167;01mRuntimeError\u001b[39;00m(error_message)\n\u001b[0;32m     74\u001b[0m \u001b[38;5;28;01mif\u001b[39;00m check_return_code \u001b[38;5;129;01mand\u001b[39;00m \u001b[38;5;28mself\u001b[39m\u001b[38;5;241m.\u001b[39mreturn_code \u001b[38;5;241m!=\u001b[39m \u001b[38;5;124m\"\u001b[39m\u001b[38;5;124m0\u001b[39m\u001b[38;5;124m\"\u001b[39m \u001b[38;5;129;01mand\u001b[39;00m \u001b[38;5;28mself\u001b[39m\u001b[38;5;241m.\u001b[39mreturn_code \u001b[38;5;129;01mis\u001b[39;00m \u001b[38;5;129;01mnot\u001b[39;00m \u001b[38;5;28;01mNone\u001b[39;00m:\n\u001b[1;32m---> 75\u001b[0m     \u001b[38;5;28;01mraise\u001b[39;00m \u001b[38;5;167;01mRuntimeError\u001b[39;00m(error_message)\n",
      "\u001b[1;31mRuntimeError\u001b[0m: http response: 200, return code: 1. msg: 모의투자에서는 해당업무가 제공되지 않습니다.                                    "
     ]
    }
   ],
   "source": [
    "api.cancel_all_kr_orders()"
   ]
  },
  {
   "cell_type": "markdown",
   "metadata": {},
   "source": [
    "### 주식 주문 정정 \n",
    "- 모의투자에서는 불가"
   ]
  },
  {
   "cell_type": "code",
   "execution_count": 53,
   "metadata": {},
   "outputs": [
    {
     "ename": "NameError",
     "evalue": "name 'order_number' is not defined",
     "output_type": "error",
     "traceback": [
      "\u001b[1;31m---------------------------------------------------------------------------\u001b[0m",
      "\u001b[1;31mNameError\u001b[0m                                 Traceback (most recent call last)",
      "Cell \u001b[1;32mIn[53], line 4\u001b[0m\n\u001b[0;32m      1\u001b[0m \u001b[38;5;66;03m# order_number: 주문 번호. api.get_kr_orders 통해 확인 가능.\u001b[39;00m\n\u001b[0;32m      2\u001b[0m \u001b[38;5;66;03m# price: 정정할 1주당 가격.\u001b[39;00m\n\u001b[0;32m      3\u001b[0m \u001b[38;5;66;03m# amount: 정정할 주문 수량. 지정하지 않은 경우 잔량 전부 정정.\u001b[39;00m\n\u001b[1;32m----> 4\u001b[0m api\u001b[38;5;241m.\u001b[39mrevise_kr_order(\u001b[43morder_number\u001b[49m, price, amount)\n",
      "\u001b[1;31mNameError\u001b[0m: name 'order_number' is not defined"
     ]
    }
   ],
   "source": [
    "# order_number: 주문 번호. api.get_kr_orders 통해 확인 가능.\n",
    "# price: 정정할 1주당 가격.\n",
    "# amount: 정정할 주문 수량. 지정하지 않은 경우 잔량 전부 정정.\n",
    "api.revise_kr_order(order_number, price, amount)"
   ]
  }
 ],
 "metadata": {
  "kernelspec": {
   "display_name": "Python 3 (ipykernel)",
   "language": "python",
   "name": "python3"
  },
  "language_info": {
   "codemirror_mode": {
    "name": "ipython",
    "version": 3
   },
   "file_extension": ".py",
   "mimetype": "text/x-python",
   "name": "python",
   "nbconvert_exporter": "python",
   "pygments_lexer": "ipython3",
   "version": "3.12.3"
  }
 },
 "nbformat": 4,
 "nbformat_minor": 2
}
